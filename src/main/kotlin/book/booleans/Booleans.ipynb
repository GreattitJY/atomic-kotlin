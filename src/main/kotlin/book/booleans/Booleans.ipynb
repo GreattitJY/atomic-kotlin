{
 "cells": [
  {
   "cell_type": "code",
   "metadata": {
    "collapsed": true,
    "ExecuteTime": {
     "end_time": "2025-08-01T06:22:53.857100Z",
     "start_time": "2025-08-01T06:22:53.787626Z"
    }
   },
   "source": [
    "fun isOpen(hour:Int){\n",
    "    val open = 9\n",
    "    val closed = 20\n",
    "    println(\"Operating hours: $open - $closed\")\n",
    "    val status =\n",
    "        if (hour >= open && hour <= closed)\n",
    "            true\n",
    "        else\n",
    "            false\n",
    "    println(\"Open: $status\")\n",
    "}\n",
    "\n",
    "isOpen(6)"
   ],
   "outputs": [
    {
     "name": "stdout",
     "output_type": "stream",
     "text": [
      "Operating hours: 9 - 20\n",
      "Open: false\n"
     ]
    }
   ],
   "execution_count": 5
  },
  {
   "metadata": {
    "ExecuteTime": {
     "end_time": "2025-08-01T06:24:42.424376Z",
     "start_time": "2025-08-01T06:24:42.327318Z"
    }
   },
   "cell_type": "code",
   "source": [
    "fun isOpen2(hour:Int) {\n",
    "    val open = 9\n",
    "    val closed = 20\n",
    "    println(\"Operating hours: $open - $closed\")\n",
    "    val status = hour >= open && hour <= closed\n",
    "    println(\"Open: $status\")\n",
    "}\n",
    "\n",
    "isOpen2(6)"
   ],
   "outputs": [
    {
     "name": "stdout",
     "output_type": "stream",
     "text": [
      "Operating hours: 9 - 20\n",
      "Open: false\n"
     ]
    }
   ],
   "execution_count": 6
  },
  {
   "metadata": {
    "ExecuteTime": {
     "end_time": "2025-08-01T06:26:33.962860Z",
     "start_time": "2025-08-01T06:26:33.902349Z"
    }
   },
   "cell_type": "code",
   "source": [
    "fun isClosed(hour:Int) {\n",
    "    val open = 9\n",
    "    val closed = 20\n",
    "    println(\"Operating hours: $open - $closed\")\n",
    "    val status = hour < open || hour > closed\n",
    "    println(\"Closed: $status\")\n",
    "}\n",
    "\n",
    "isClosed(6)"
   ],
   "outputs": [
    {
     "name": "stdout",
     "output_type": "stream",
     "text": [
      "Operating hours: 9 - 20\n",
      "Closed: true\n"
     ]
    }
   ],
   "execution_count": 10
  },
  {
   "metadata": {
    "ExecuteTime": {
     "end_time": "2025-08-01T06:30:57.903168Z",
     "start_time": "2025-08-01T06:30:57.824501Z"
    }
   },
   "cell_type": "code",
   "source": [
    "val sunny = true\n",
    "val hourSleep =6\n",
    "val exercise = false\n",
    "val temp = 55\n",
    "\n",
    "val happy1 = sunny && temp > 50 || exercise && hourSleep > 7\n",
    "println(happy1)\n",
    "\n",
    "val sameHappy1 = (sunny && temp > 50) || (exercise && hourSleep > 7)\n",
    "println(sameHappy1)\n",
    "\n",
    "val notSame = (sunny && temp > 50 || exercise) && hourSleep > 7\n",
    "println(notSame)\n"
   ],
   "outputs": [
    {
     "name": "stdout",
     "output_type": "stream",
     "text": [
      "true\n",
      "true\n",
      "false\n"
     ]
    }
   ],
   "execution_count": 14
  },
  {
   "metadata": {},
   "cell_type": "code",
   "outputs": [],
   "execution_count": null,
   "source": ""
  }
 ],
 "metadata": {
  "kernelspec": {
   "display_name": "Kotlin",
   "language": "kotlin",
   "name": "kotlin"
  },
  "language_info": {
   "name": "kotlin",
   "version": "2.2.20-dev-4982",
   "mimetype": "text/x-kotlin",
   "file_extension": ".kt",
   "pygments_lexer": "kotlin",
   "codemirror_mode": "text/x-kotlin",
   "nbconvert_exporter": ""
  }
 },
 "nbformat": 4,
 "nbformat_minor": 0
}
