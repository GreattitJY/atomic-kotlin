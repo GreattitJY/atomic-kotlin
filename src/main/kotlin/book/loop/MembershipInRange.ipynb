{
 "cells": [
  {
   "cell_type": "code",
   "metadata": {
    "collapsed": true,
    "ExecuteTime": {
     "end_time": "2025-08-01T07:13:20.743160Z",
     "start_time": "2025-08-01T07:13:20.607040Z"
    }
   },
   "source": [
    "val percent = 35\n",
    "println(percent in 1..100)"
   ],
   "outputs": [
    {
     "name": "stdout",
     "output_type": "stream",
     "text": [
      "true\n"
     ]
    }
   ],
   "execution_count": 1
  },
  {
   "metadata": {
    "ExecuteTime": {
     "end_time": "2025-08-01T07:13:57.460466Z",
     "start_time": "2025-08-01T07:13:57.399177Z"
    }
   },
   "cell_type": "code",
   "source": [
    "val percent = 35\n",
    "println(0 <= percent && percent <= 100)"
   ],
   "outputs": [
    {
     "name": "stdout",
     "output_type": "stream",
     "text": [
      "true\n"
     ]
    }
   ],
   "execution_count": 2
  },
  {
   "metadata": {
    "ExecuteTime": {
     "end_time": "2025-08-01T07:16:20.084603Z",
     "start_time": "2025-08-01T07:16:19.905280Z"
    }
   },
   "cell_type": "code",
   "source": [
    "val values = 1..3\n",
    "for (v in values) {\n",
    "    println(\"iteration $v\")\n",
    "}\n",
    "val v = 2\n",
    "if (v in values)\n",
    "    println(\"$v is a member of $values\")"
   ],
   "outputs": [
    {
     "name": "stdout",
     "output_type": "stream",
     "text": [
      "iteration 1\n",
      "iteration 2\n",
      "iteration 3\n",
      "2 is a member of 1..3\n"
     ]
    }
   ],
   "execution_count": 3
  },
  {
   "metadata": {
    "ExecuteTime": {
     "end_time": "2025-08-01T07:17:07.372325Z",
     "start_time": "2025-08-01T07:17:07.297832Z"
    }
   },
   "cell_type": "code",
   "source": [
    "println('t' in \"kotlin\")\n",
    "println(\"a\" in \"kotlin\")"
   ],
   "outputs": [
    {
     "name": "stdout",
     "output_type": "stream",
     "text": [
      "true\n",
      "false\n"
     ]
    }
   ],
   "execution_count": 5
  },
  {
   "metadata": {
    "ExecuteTime": {
     "end_time": "2025-08-01T07:18:21.162138Z",
     "start_time": "2025-08-01T07:18:21.015514Z"
    }
   },
   "cell_type": "code",
   "source": [
    "fun isDigit(ch:Char) = ch in '0'..'9'\n",
    "fun notDigit(ch:Char) = ch !in '0'..'9'\n",
    "\n",
    "println(isDigit('a'))\n",
    "println(isDigit('5'))\n",
    "println(notDigit('z'))"
   ],
   "outputs": [
    {
     "name": "stdout",
     "output_type": "stream",
     "text": [
      "false\n",
      "true\n",
      "true\n"
     ]
    }
   ],
   "execution_count": 6
  },
  {
   "metadata": {
    "ExecuteTime": {
     "end_time": "2025-08-01T07:20:02.141862Z",
     "start_time": "2025-08-01T07:20:02.011570Z"
    }
   },
   "cell_type": "code",
   "source": [
    "fun inFloatRange(n: Double) {\n",
    "    val r = 1.0..10.0\n",
    "    println(\"$n in $r? ${n in r}\")\n",
    "}\n",
    "\n",
    "inFloatRange(0.999999)\n",
    "inFloatRange(5.0)\n",
    "inFloatRange(10.0)\n",
    "inFloatRange(10.000001)"
   ],
   "outputs": [
    {
     "name": "stdout",
     "output_type": "stream",
     "text": [
      "0.999999 in 1.0..10.0? false\n",
      "5.0 in 1.0..10.0? true\n",
      "10.0 in 1.0..10.0? true\n",
      "10.000001 in 1.0..10.0? false\n"
     ]
    }
   ],
   "execution_count": 7
  },
  {
   "metadata": {
    "ExecuteTime": {
     "end_time": "2025-08-01T07:20:47.305844Z",
     "start_time": "2025-08-01T07:20:47.229680Z"
    }
   },
   "cell_type": "code",
   "source": [
    "println(\"ab\" in \"aa\"..\"az\")\n",
    "println(\"ba\" in \"aa\"..\"az\")"
   ],
   "outputs": [
    {
     "name": "stdout",
     "output_type": "stream",
     "text": [
      "true\n",
      "false\n"
     ]
    }
   ],
   "execution_count": 8
  },
  {
   "metadata": {},
   "cell_type": "code",
   "outputs": [],
   "execution_count": null,
   "source": ""
  }
 ],
 "metadata": {
  "kernelspec": {
   "display_name": "Kotlin",
   "language": "kotlin",
   "name": "kotlin"
  },
  "language_info": {
   "name": "kotlin",
   "version": "2.2.20-dev-4982",
   "mimetype": "text/x-kotlin",
   "file_extension": ".kt",
   "pygments_lexer": "kotlin",
   "codemirror_mode": "text/x-kotlin",
   "nbconvert_exporter": ""
  }
 },
 "nbformat": 4,
 "nbformat_minor": 0
}
