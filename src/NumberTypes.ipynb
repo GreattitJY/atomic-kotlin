{
 "cells": [
  {
   "metadata": {
    "collapsed": true,
    "ExecuteTime": {
     "end_time": "2025-07-31T09:19:03.610929Z",
     "start_time": "2025-07-31T09:19:03.489718Z"
    }
   },
   "cell_type": "code",
   "outputs": [
    {
     "name": "stdout",
     "output_type": "stream",
     "text": [
      "1\n"
     ]
    }
   ],
   "execution_count": 1,
   "source": [
    "val numerator = 19\n",
    "val denominator = 10\n",
    "println(numerator / denominator)"
   ]
  },
  {
   "metadata": {
    "ExecuteTime": {
     "end_time": "2025-07-31T09:23:10.925787Z",
     "start_time": "2025-07-31T09:23:10.869636Z"
    }
   },
   "cell_type": "code",
   "outputs": [
    {
     "name": "stdout",
     "output_type": "stream",
     "text": [
      "22.20408163265306\n",
      "Normal weight\n"
     ]
    }
   ],
   "execution_count": 7,
   "source": [
    "fun bmiMetric(weight: Double, hegiht: Double):String {\n",
    "    val bmi = weight / (hegiht * hegiht)\n",
    "    println(bmi)\n",
    "    return if (bmi < 18.5) \"Underweight\"\n",
    "        else if (bmi < 25) \"Normal weight\"\n",
    "        else \"Overweight\"\n",
    "}\n",
    "\n",
    "val weight = 68.0\n",
    "val height = 1.75\n",
    "val status = bmiMetric(weight, height)\n",
    "println(status)\n"
   ]
  },
  {
   "metadata": {
    "ExecuteTime": {
     "end_time": "2025-07-31T09:27:00.894274Z",
     "start_time": "2025-07-31T09:27:00.826989Z"
    }
   },
   "cell_type": "code",
   "source": [
    "fun bmiEnglish(w:Int,h:Int):String {\n",
    "    val bmi = w / (h*h) *703.07\n",
    "    return if (bmi < 18.5) \"Underweight\"\n",
    "    else if (bmi < 25) \"Normal weight\"\n",
    "    else \"Overweight\"\n",
    "}\n",
    "val weight = 68.0\n",
    "val height = 1.75\n",
    "val status = bmiMetric(weight, height)\n",
    "println(status)\n"
   ],
   "outputs": [
    {
     "name": "stdout",
     "output_type": "stream",
     "text": [
      "22.20408163265306\n",
      "Normal weight\n"
     ]
    }
   ],
   "execution_count": 9
  },
  {
   "metadata": {
    "ExecuteTime": {
     "end_time": "2025-07-31T09:29:08.388880Z",
     "start_time": "2025-07-31T09:29:08.353446Z"
    }
   },
   "cell_type": "code",
   "source": [
    "val i =Int.MAX_VALUE\n",
    "println(i+i)"
   ],
   "outputs": [
    {
     "name": "stdout",
     "output_type": "stream",
     "text": [
      "-2\n"
     ]
    }
   ],
   "execution_count": 12
  },
  {
   "metadata": {
    "ExecuteTime": {
     "end_time": "2025-08-06T09:46:03.029140Z",
     "start_time": "2025-08-06T09:46:02.899704Z"
    }
   },
   "cell_type": "code",
   "source": [
    "val i = 0\n",
    "val l1 = 0L\n",
    "val l2:Long = 0\n",
    "\n",
    "println(\"$l1 $l2\")"
   ],
   "outputs": [
    {
     "name": "stdout",
     "output_type": "stream",
     "text": [
      "0 0\n"
     ]
    }
   ],
   "execution_count": 1
  },
  {
   "metadata": {
    "ExecuteTime": {
     "end_time": "2025-07-31T09:31:01.634618Z",
     "start_time": "2025-07-31T09:31:01.579875Z"
    }
   },
   "cell_type": "code",
   "source": [
    "val i = Int.MAX_VALUE\n",
    "println(0L + i + i)\n",
    "println(1_000_000 * 1_000_000L)"
   ],
   "outputs": [
    {
     "name": "stdout",
     "output_type": "stream",
     "text": [
      "4294967294\n",
      "1000000000000\n"
     ]
    }
   ],
   "execution_count": 14
  },
  {
   "metadata": {
    "ExecuteTime": {
     "end_time": "2025-07-31T09:31:41.310533Z",
     "start_time": "2025-07-31T09:31:41.255317Z"
    }
   },
   "cell_type": "code",
   "source": [
    "println(Long.MAX_VALUE)\n",
    "println(Long.MIN_VALUE)"
   ],
   "outputs": [
    {
     "name": "stdout",
     "output_type": "stream",
     "text": [
      "9223372036854775807\n",
      "-9223372036854775808\n"
     ]
    }
   ],
   "execution_count": 15
  }
 ],
 "metadata": {
  "kernelspec": {
   "display_name": "Kotlin",
   "language": "kotlin",
   "name": "kotlin"
  },
  "language_info": {
   "name": "kotlin",
   "version": "2.2.20-dev-4982",
   "mimetype": "text/x-kotlin",
   "file_extension": ".kt",
   "pygments_lexer": "kotlin",
   "codemirror_mode": "text/x-kotlin",
   "nbconvert_exporter": ""
  }
 },
 "nbformat": 4,
 "nbformat_minor": 0
}
