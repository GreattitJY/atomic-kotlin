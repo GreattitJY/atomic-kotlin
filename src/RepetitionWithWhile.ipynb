{
 "cells": [
  {
   "cell_type": "code",
   "metadata": {
    "collapsed": true,
    "ExecuteTime": {
     "end_time": "2025-08-01T06:33:37.633011Z",
     "start_time": "2025-08-01T06:33:37.464504Z"
    }
   },
   "source": [
    "fun condition(i: Int) = i < 100\n",
    "\n",
    "var i = 0\n",
    "while (condition(i)) {\n",
    "    print(\".\")\n",
    "    i+=10\n",
    "}"
   ],
   "outputs": [
    {
     "name": "stdout",
     "output_type": "stream",
     "text": [
      ".........."
     ]
    }
   ],
   "execution_count": 1
  },
  {
   "metadata": {
    "ExecuteTime": {
     "end_time": "2025-08-01T06:34:59.239346Z",
     "start_time": "2025-08-01T06:34:59.102311Z"
    }
   },
   "cell_type": "code",
   "source": [
    "fun condition(int: Int) = int < 100\n",
    "\n",
    "var i = 0\n",
    "do {\n",
    "    print(\".\")\n",
    "    i += 10\n",
    "} while(condition(i))"
   ],
   "outputs": [
    {
     "name": "stdout",
     "output_type": "stream",
     "text": [
      ".........."
     ]
    }
   ],
   "execution_count": 2
  },
  {
   "metadata": {
    "ExecuteTime": {
     "end_time": "2025-08-01T06:37:28.189295Z",
     "start_time": "2025-08-01T06:37:28.100586Z"
    }
   },
   "cell_type": "code",
   "source": [
    "var n = 10\n",
    "val d = 3\n",
    "print(n)\n",
    "while (n > d) {\n",
    "    n -= d\n",
    "    print(\" - $d\")\n",
    "}\n",
    "println(\" = $n\")\n",
    "var m = 10\n",
    "print(m)\n",
    "m %= d\n",
    "println(\" % $d = $m\")"
   ],
   "outputs": [
    {
     "name": "stdout",
     "output_type": "stream",
     "text": [
      "10 - 3 - 3 - 3 = 1\n",
      "10 % 3 = 1\n"
     ]
    }
   ],
   "execution_count": 4
  },
  {
   "metadata": {
    "ExecuteTime": {
     "end_time": "2025-08-01T06:38:01.044118Z",
     "start_time": "2025-08-01T06:38:00.976304Z"
    }
   },
   "cell_type": "code",
   "source": [
    "var i = 0\n",
    "while (i < 4){\n",
    "    print(\".\")\n",
    "    i++\n",
    "}"
   ],
   "outputs": [
    {
     "name": "stdout",
     "output_type": "stream",
     "text": [
      "...."
     ]
    }
   ],
   "execution_count": 5
  },
  {
   "metadata": {},
   "cell_type": "code",
   "outputs": [],
   "execution_count": null,
   "source": ""
  }
 ],
 "metadata": {
  "kernelspec": {
   "display_name": "Kotlin",
   "language": "kotlin",
   "name": "kotlin"
  },
  "language_info": {
   "name": "kotlin",
   "version": "2.2.20-dev-4982",
   "mimetype": "text/x-kotlin",
   "file_extension": ".kt",
   "pygments_lexer": "kotlin",
   "codemirror_mode": "text/x-kotlin",
   "nbconvert_exporter": ""
  }
 },
 "nbformat": 4,
 "nbformat_minor": 0
}
