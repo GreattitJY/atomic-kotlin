{
 "cells": [
  {
   "cell_type": "code",
   "metadata": {
    "collapsed": true,
    "ExecuteTime": {
     "end_time": "2025-08-01T06:55:17.300842Z",
     "start_time": "2025-08-01T06:55:17.154885Z"
    }
   },
   "source": [
    "for (i in 1..3) {\n",
    "    println(\"Hey $i\")\n",
    "}"
   ],
   "outputs": [
    {
     "name": "stdout",
     "output_type": "stream",
     "text": [
      "Hey 1\n",
      "Hey 2\n",
      "Hey 3\n"
     ]
    }
   ],
   "execution_count": 1
  },
  {
   "metadata": {
    "ExecuteTime": {
     "end_time": "2025-08-01T06:56:24.584255Z",
     "start_time": "2025-08-01T06:56:24.453456Z"
    }
   },
   "cell_type": "code",
   "source": [
    "val range1 = 1..10\n",
    "val range2 = 0 until 10\n",
    "println(range1)\n",
    "println(range2)"
   ],
   "outputs": [
    {
     "name": "stdout",
     "output_type": "stream",
     "text": [
      "1..10\n",
      "0..9\n"
     ]
    }
   ],
   "execution_count": 2
  },
  {
   "metadata": {
    "ExecuteTime": {
     "end_time": "2025-08-01T06:57:31.439173Z",
     "start_time": "2025-08-01T06:57:31.333910Z"
    }
   },
   "cell_type": "code",
   "source": [
    "var sum = 0\n",
    "for (n in 10..100) {\n",
    "    sum += n\n",
    "}\n",
    "\n",
    "println(sum)\n"
   ],
   "outputs": [
    {
     "name": "stdout",
     "output_type": "stream",
     "text": [
      "5005\n"
     ]
    }
   ],
   "execution_count": 3
  },
  {
   "metadata": {
    "ExecuteTime": {
     "end_time": "2025-08-01T07:02:15.275005Z",
     "start_time": "2025-08-01T07:02:15.189366Z"
    }
   },
   "cell_type": "code",
   "source": [
    "fun showRange(r: IntProgression) {\n",
    "    for (i in r) {\n",
    "        print(\"$i \")\n",
    "    }\n",
    "    print(\" // $r\")\n",
    "    println()\n",
    "}\n",
    "\n",
    "showRange(1..5)\n",
    "showRange(0 until 5)\n",
    "showRange(5 downTo 1)\n",
    "showRange(0..9 step 2)\n",
    "showRange(0 until 10 step 3)\n",
    "showRange(9 downTo 2 step 3)"
   ],
   "outputs": [
    {
     "name": "stdout",
     "output_type": "stream",
     "text": [
      "1 2 3 4 5  // 1..5\n",
      "0 1 2 3 4  // 0..4\n",
      "5 4 3 2 1  // 5 downTo 1 step 1\n",
      "0 2 4 6 8  // 0..8 step 2\n",
      "0 3 6 9  // 0..9 step 3\n",
      "9 6 3  // 9 downTo 3 step 3\n"
     ]
    }
   ],
   "execution_count": 10
  },
  {
   "metadata": {
    "ExecuteTime": {
     "end_time": "2025-08-01T07:04:32.659767Z",
     "start_time": "2025-08-01T07:04:32.618548Z"
    }
   },
   "cell_type": "code",
   "source": [
    "for (c in 'a'..'z'){\n",
    "    print(c)\n",
    "}"
   ],
   "outputs": [
    {
     "name": "stdout",
     "output_type": "stream",
     "text": [
      "abcdefghijklmnopqrstuvwxyz"
     ]
    }
   ],
   "execution_count": 14
  },
  {
   "metadata": {
    "ExecuteTime": {
     "end_time": "2025-08-01T07:06:53.477431Z",
     "start_time": "2025-08-01T07:06:53.425227Z"
    }
   },
   "cell_type": "code",
   "source": [
    "val s = \"abc\"\n",
    "for (i in 0..s.lastIndex) {\n",
    "    print(s[i] + 1)\n",
    "}"
   ],
   "outputs": [
    {
     "name": "stdout",
     "output_type": "stream",
     "text": [
      "bcd"
     ]
    }
   ],
   "execution_count": 20
  },
  {
   "metadata": {
    "ExecuteTime": {
     "end_time": "2025-08-01T07:07:18.012859Z",
     "start_time": "2025-08-01T07:07:17.969676Z"
    }
   },
   "cell_type": "code",
   "source": [
    "val ch: Char = 'a'\n",
    "println(ch +25)\n",
    "println(ch < 'z')"
   ],
   "outputs": [
    {
     "name": "stdout",
     "output_type": "stream",
     "text": [
      "z\n",
      "true\n"
     ]
    }
   ],
   "execution_count": 21
  },
  {
   "metadata": {
    "ExecuteTime": {
     "end_time": "2025-08-01T07:08:33.531386Z",
     "start_time": "2025-08-01T07:08:33.491645Z"
    }
   },
   "cell_type": "code",
   "source": [
    "for (ch in \"Jnskhm \") {\n",
    "    print(ch + 1)\n",
    "}"
   ],
   "outputs": [
    {
     "name": "stdout",
     "output_type": "stream",
     "text": [
      "Kotlin!"
     ]
    }
   ],
   "execution_count": 24
  },
  {
   "metadata": {
    "ExecuteTime": {
     "end_time": "2025-08-01T07:10:57.741008Z",
     "start_time": "2025-08-01T07:10:57.665373Z"
    }
   },
   "cell_type": "code",
   "source": [
    "fun hasChar(s:String, ch:Char):Boolean {\n",
    "    for (c in s) {\n",
    "        if (c == ch) return true\n",
    "    }\n",
    "    return false\n",
    "}\n",
    "println(hasChar(\"kotlin\", 't'))\n",
    "println(hasChar(\"kotlin\", 'a'))"
   ],
   "outputs": [
    {
     "name": "stdout",
     "output_type": "stream",
     "text": [
      "true\n",
      "false\n"
     ]
    }
   ],
   "execution_count": 25
  },
  {
   "metadata": {
    "ExecuteTime": {
     "end_time": "2025-08-01T07:11:20.578603Z",
     "start_time": "2025-08-01T07:11:20.501714Z"
    }
   },
   "cell_type": "code",
   "source": [
    "repeat(2) {\n",
    "    println(\"hi\")\n",
    "}"
   ],
   "outputs": [
    {
     "name": "stdout",
     "output_type": "stream",
     "text": [
      "hi\n",
      "hi\n"
     ]
    }
   ],
   "execution_count": 26
  },
  {
   "metadata": {},
   "cell_type": "code",
   "outputs": [],
   "execution_count": null,
   "source": ""
  }
 ],
 "metadata": {
  "kernelspec": {
   "display_name": "Kotlin",
   "language": "kotlin",
   "name": "kotlin"
  },
  "language_info": {
   "name": "kotlin",
   "version": "2.2.20-dev-4982",
   "mimetype": "text/x-kotlin",
   "file_extension": ".kt",
   "pygments_lexer": "kotlin",
   "codemirror_mode": "text/x-kotlin",
   "nbconvert_exporter": ""
  }
 },
 "nbformat": 4,
 "nbformat_minor": 0
}
