{
 "cells": [
  {
   "cell_type": "code",
   "metadata": {
    "collapsed": true,
    "ExecuteTime": {
     "end_time": "2025-08-01T07:25:17.757831Z",
     "start_time": "2025-08-01T07:25:17.625635Z"
    }
   },
   "source": [
    "fun unitFun() = Unit\n",
    "\n",
    "println(unitFun())\n",
    "val u1: Unit = println(42)\n",
    "println(u1)\n",
    "val u2 = println(0)\n",
    "println(u2)"
   ],
   "outputs": [
    {
     "name": "stdout",
     "output_type": "stream",
     "text": [
      "kotlin.Unit\n",
      "42\n",
      "kotlin.Unit\n",
      "0\n",
      "kotlin.Unit\n"
     ]
    }
   ],
   "execution_count": 2
  },
  {
   "metadata": {
    "ExecuteTime": {
     "end_time": "2025-08-01T07:27:44.527481Z",
     "start_time": "2025-08-01T07:27:44.312259Z"
    }
   },
   "cell_type": "code",
   "source": [
    "val result1 = if (11>42) 9 else 5\n",
    "val result2 = if (1<2) {\n",
    "    val a = 11\n",
    "    a + 42\n",
    "} else 42\n",
    "\n",
    "\n",
    "\n",
    "val result3 =\n",
    "    if ('x' < 'y')\n",
    "        println(\"x < y\")\n",
    "    else\n",
    "        println(\"x > y\")\n",
    "\n",
    "println(result1)\n",
    "println(result2)\n",
    "println(result3)"
   ],
   "outputs": [
    {
     "name": "stdout",
     "output_type": "stream",
     "text": [
      "x < y\n",
      "5\n",
      "53\n",
      "kotlin.Unit\n"
     ]
    }
   ],
   "execution_count": 3
  },
  {
   "metadata": {
    "ExecuteTime": {
     "end_time": "2025-08-01T07:30:39.499882Z",
     "start_time": "2025-08-01T07:30:39.382521Z"
    }
   },
   "cell_type": "code",
   "source": [
    "var i = 10\n",
    "println(i++)\n",
    "println(i)\n",
    "var j = 20\n",
    "println(++j)\n",
    "println(j)"
   ],
   "outputs": [
    {
     "name": "stdout",
     "output_type": "stream",
     "text": [
      "10\n",
      "11\n",
      "21\n",
      "21\n"
     ]
    }
   ],
   "execution_count": 4
  },
  {
   "metadata": {
    "ExecuteTime": {
     "end_time": "2025-08-01T07:31:42.319615Z",
     "start_time": "2025-08-01T07:31:42.221656Z"
    }
   },
   "cell_type": "code",
   "source": [
    "var i = 1\n",
    "println(i++ + ++i)\n",
    "println(i++ + 10)\n",
    "println(20 + ++i)\n"
   ],
   "outputs": [
    {
     "name": "stdout",
     "output_type": "stream",
     "text": [
      "4\n",
      "13\n",
      "25\n"
     ]
    }
   ],
   "execution_count": 5
  },
  {
   "metadata": {},
   "cell_type": "code",
   "outputs": [],
   "execution_count": null,
   "source": ""
  }
 ],
 "metadata": {
  "kernelspec": {
   "display_name": "Kotlin",
   "language": "kotlin",
   "name": "kotlin"
  },
  "language_info": {
   "name": "kotlin",
   "version": "2.2.20-dev-4982",
   "mimetype": "text/x-kotlin",
   "file_extension": ".kt",
   "pygments_lexer": "kotlin",
   "codemirror_mode": "text/x-kotlin",
   "nbconvert_exporter": ""
  }
 },
 "nbformat": 4,
 "nbformat_minor": 0
}
