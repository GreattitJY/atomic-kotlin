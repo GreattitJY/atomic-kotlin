{
 "cells": [
  {
   "cell_type": "code",
   "metadata": {
    "collapsed": true,
    "ExecuteTime": {
     "end_time": "2025-08-04T08:59:36.935118Z",
     "start_time": "2025-08-04T08:59:36.811103Z"
    }
   },
   "source": [
    "val a = 5\n",
    "val b = 2.5\n",
    "println(a+b) // 7.5"
   ],
   "outputs": [
    {
     "name": "stdout",
     "output_type": "stream",
     "text": [
      "7.5\n"
     ]
    }
   ],
   "execution_count": 1
  },
  {
   "metadata": {
    "ExecuteTime": {
     "end_time": "2025-08-04T09:00:04.600315Z",
     "start_time": "2025-08-04T09:00:04.529560Z"
    }
   },
   "cell_type": "code",
   "source": [
    "val s = \"Kotlin\"\n",
    "println(\"Hello $s!\") // Hello Kotlin"
   ],
   "outputs": [
    {
     "name": "stdout",
     "output_type": "stream",
     "text": [
      "Hello Kotlin!\n"
     ]
    }
   ],
   "execution_count": 2
  },
  {
   "metadata": {
    "ExecuteTime": {
     "end_time": "2025-08-04T09:00:21.329790Z",
     "start_time": "2025-08-04T09:00:21.291687Z"
    }
   },
   "cell_type": "code",
   "source": "val isDone = false // Boolean",
   "outputs": [],
   "execution_count": 3
  },
  {
   "metadata": {
    "ExecuteTime": {
     "end_time": "2025-08-04T09:00:56.613233Z",
     "start_time": "2025-08-04T09:00:56.564284Z"
    }
   },
   "cell_type": "code",
   "source": "val char:Char = 'A'",
   "outputs": [],
   "execution_count": 4
  },
  {
   "metadata": {
    "ExecuteTime": {
     "end_time": "2025-08-04T09:01:14.612598Z",
     "start_time": "2025-08-04T09:01:14.574804Z"
    }
   },
   "cell_type": "code",
   "source": "val x = 123 // Int",
   "outputs": [],
   "execution_count": 5
  },
  {
   "metadata": {
    "ExecuteTime": {
     "end_time": "2025-08-04T09:02:31.374880Z",
     "start_time": "2025-08-04T09:02:31.281266Z"
    }
   },
   "cell_type": "code",
   "source": [
    "val num = Int.MAX_VALUE\n",
    "println(num)"
   ],
   "outputs": [
    {
     "name": "stdout",
     "output_type": "stream",
     "text": [
      "2147483647\n"
     ]
    }
   ],
   "execution_count": 6
  },
  {
   "metadata": {
    "ExecuteTime": {
     "end_time": "2025-08-04T09:07:15.590636Z",
     "start_time": "2025-08-04T09:07:15.523200Z"
    }
   },
   "cell_type": "code",
   "source": "// 삼중 큰 따옴표 사용 시 여러 줄에 걸친 문자열을 만들거나 특수 문자 가능",
   "outputs": [],
   "execution_count": 7
  },
  {
   "metadata": {
    "ExecuteTime": {
     "end_time": "2025-08-04T09:08:27.606Z",
     "start_time": "2025-08-04T09:08:27.560857Z"
    }
   },
   "cell_type": "code",
   "source": [
    "val x = 1\n",
    "println(\"Value is: ${x + 1}\")"
   ],
   "outputs": [
    {
     "name": "stdout",
     "output_type": "stream",
     "text": [
      "Value is: 2\n"
     ]
    }
   ],
   "execution_count": 11
  },
  {
   "metadata": {
    "ExecuteTime": {
     "end_time": "2025-08-04T09:09:42.650761Z",
     "start_time": "2025-08-04T09:09:42.594111Z"
    }
   },
   "cell_type": "code",
   "source": [
    "val score = 70\n",
    "if (score >=90)\n",
    "    println(\"A\")\n",
    "else if (score >= 80)\n",
    "    println(\"B\")\n",
    "else\n",
    "    println(\"C\")"
   ],
   "outputs": [
    {
     "name": "stdout",
     "output_type": "stream",
     "text": [
      "C\n"
     ]
    }
   ],
   "execution_count": 13
  },
  {
   "metadata": {
    "ExecuteTime": {
     "end_time": "2025-08-04T09:11:11.579943Z",
     "start_time": "2025-08-04T09:11:11.521865Z"
    }
   },
   "cell_type": "code",
   "source": [
    "for (i in 1..3)\n",
    "    println(i)\n",
    "for (i in 1 until 4)\n",
    "    println(i)"
   ],
   "outputs": [
    {
     "name": "stdout",
     "output_type": "stream",
     "text": [
      "1\n",
      "2\n",
      "3\n",
      "1\n",
      "2\n",
      "3\n"
     ]
    }
   ],
   "execution_count": 15
  },
  {
   "metadata": {
    "ExecuteTime": {
     "end_time": "2025-08-04T09:12:11.169840Z",
     "start_time": "2025-08-04T09:12:11.056449Z"
    }
   },
   "cell_type": "code",
   "source": [
    " var i = 0\n",
    " while (i <4) {\n",
    "     println(i)\n",
    "     i++\n",
    " }"
   ],
   "outputs": [
    {
     "name": "stdout",
     "output_type": "stream",
     "text": [
      "0\n",
      "1\n",
      "2\n",
      "3\n"
     ]
    }
   ],
   "execution_count": 16
  },
  {
   "metadata": {
    "ExecuteTime": {
     "end_time": "2025-08-04T09:12:57.935049Z",
     "start_time": "2025-08-04T09:12:57.893389Z"
    }
   },
   "cell_type": "code",
   "source": [
    "for (i in 2..10 step 2)\n",
    "    println(i)"
   ],
   "outputs": [
    {
     "name": "stdout",
     "output_type": "stream",
     "text": [
      "2\n",
      "4\n",
      "6\n",
      "8\n",
      "10\n"
     ]
    }
   ],
   "execution_count": 18
  },
  {
   "metadata": {
    "ExecuteTime": {
     "end_time": "2025-08-04T09:15:44.692571Z",
     "start_time": "2025-08-04T09:15:44.503153Z"
    }
   },
   "cell_type": "code",
   "source": [
    "val s = \"banana\"\n",
    "var count = 0;\n",
    "for (c in s)\n",
    "    if (c == 'a') count++\n",
    "println(count)"
   ],
   "outputs": [
    {
     "name": "stdout",
     "output_type": "stream",
     "text": [
      "3\n"
     ]
    }
   ],
   "execution_count": 20
  },
  {
   "metadata": {
    "ExecuteTime": {
     "end_time": "2025-08-04T09:18:47.816252Z",
     "start_time": "2025-08-04T09:18:47.777929Z"
    }
   },
   "cell_type": "code",
   "source": [
    "for (i in 1..5)\n",
    "    print(\"${i*i} \")"
   ],
   "outputs": [
    {
     "name": "stdout",
     "output_type": "stream",
     "text": [
      "1 4 9 16 25 "
     ]
    }
   ],
   "execution_count": 27
  },
  {
   "metadata": {
    "ExecuteTime": {
     "end_time": "2025-08-04T09:20:04.144560Z",
     "start_time": "2025-08-04T09:20:04.108795Z"
    }
   },
   "cell_type": "code",
   "source": [
    "val n = 7\n",
    "val result = if (n % 2 == 0) \"even\" else \"odd\" // odd\n",
    "println(result)"
   ],
   "outputs": [
    {
     "name": "stdout",
     "output_type": "stream",
     "text": [
      "odd\n"
     ]
    }
   ],
   "execution_count": 30
  },
  {
   "metadata": {
    "ExecuteTime": {
     "end_time": "2025-08-04T09:20:35.727251Z",
     "start_time": "2025-08-04T09:20:35.650699Z"
    }
   },
   "cell_type": "code",
   "source": [
    "var sum = 0\n",
    "for (i in 1..10)\n",
    "    sum += i\n",
    "println(sum)"
   ],
   "outputs": [
    {
     "name": "stdout",
     "output_type": "stream",
     "text": [
      "55\n"
     ]
    }
   ],
   "execution_count": 31
  },
  {
   "metadata": {
    "ExecuteTime": {
     "end_time": "2025-08-04T09:21:15.993884Z",
     "start_time": "2025-08-04T09:21:15.865108Z"
    }
   },
   "cell_type": "code",
   "source": [
    "for (i in 10 downTo 1)\n",
    "    print(\"${i} \")"
   ],
   "outputs": [
    {
     "name": "stdout",
     "output_type": "stream",
     "text": [
      "10 9 8 7 6 5 4 3 2 1 "
     ]
    }
   ],
   "execution_count": 32
  }
 ],
 "metadata": {
  "kernelspec": {
   "display_name": "Kotlin",
   "language": "kotlin",
   "name": "kotlin"
  },
  "language_info": {
   "name": "kotlin",
   "version": "2.2.20-dev-4982",
   "mimetype": "text/x-kotlin",
   "file_extension": ".kt",
   "pygments_lexer": "kotlin",
   "codemirror_mode": "text/x-kotlin",
   "nbconvert_exporter": ""
  }
 },
 "nbformat": 4,
 "nbformat_minor": 0
}
